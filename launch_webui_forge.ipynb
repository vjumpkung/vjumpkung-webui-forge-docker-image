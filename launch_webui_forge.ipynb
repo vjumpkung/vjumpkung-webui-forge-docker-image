{
 "cells": [
  {
   "cell_type": "markdown",
   "id": "8e1fd40f-4127-412e-aebe-7034649370b3",
   "metadata": {},
   "source": [
    "# Stable Diffusion WebUI Forge Launcher\n",
    "\n",
    "## วิธีการใช้\n",
    "\n",
    "1. กด Run -> Run All Cells\n",
    "\n",
    "2. กด START WebUI Forge\n",
    "\n",
    "3. กด Link ที่ปรากฎขึ้น"
   ]
  },
  {
   "cell_type": "code",
   "execution_count": 1,
   "id": "8a98edd8-da35-459c-83a7-919dad74af98",
   "metadata": {},
   "outputs": [
    {
     "data": {
      "application/vnd.jupyter.widget-view+json": {
       "model_id": "20acf11d052a415c8c082e6b12835a6c",
       "version_major": 2,
       "version_minor": 0
      },
      "text/plain": [
       "HTML(value='<h3 style=\"width: 250px;\">เริ่มโปรแกรม WebUI Forge ตรงนี้</h3>')"
      ]
     },
     "metadata": {},
     "output_type": "display_data"
    },
    {
     "data": {
      "application/vnd.jupyter.widget-view+json": {
       "model_id": "7d26ba8b0cb34adc8fdb86fe805fd345",
       "version_major": 2,
       "version_minor": 0
      },
      "text/plain": [
       "Button(button_style='primary', description='START WebUI Forge', style=ButtonStyle())"
      ]
     },
     "metadata": {},
     "output_type": "display_data"
    },
    {
     "data": {
      "application/vnd.jupyter.widget-view+json": {
       "model_id": "ac2722902a6247ca955bc05e8d613c2b",
       "version_major": 2,
       "version_minor": 0
      },
      "text/plain": [
       "Output()"
      ]
     },
     "metadata": {},
     "output_type": "display_data"
    }
   ],
   "source": [
    "from ui.main import *\n",
    "launch_forge()"
   ]
  }
 ],
 "metadata": {
  "kernelspec": {
   "display_name": "Python 3 (ipykernel)",
   "language": "python",
   "name": "python3"
  },
  "language_info": {
   "codemirror_mode": {
    "name": "ipython",
    "version": 3
   },
   "file_extension": ".py",
   "mimetype": "text/x-python",
   "name": "python",
   "nbconvert_exporter": "python",
   "pygments_lexer": "ipython3",
   "version": "3.11.11"
  }
 },
 "nbformat": 4,
 "nbformat_minor": 5
}
