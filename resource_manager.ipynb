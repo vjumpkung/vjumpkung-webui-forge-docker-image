{
 "cells": [
  {
   "attachments": {},
   "cell_type": "markdown",
   "id": "2c1f12f8-1613-4170-ba07-d7dcce05da8d",
   "metadata": {
    "editable": true,
    "slideshow": {
     "slide_type": ""
    },
    "tags": []
   },
   "source": [
    "# Stable Diffusion WebUI Forge Model Manager \n",
    "\n",
    "## วิธีการใช้\n",
    "\n",
    "1. กด Run -> Run All Cells\n",
    "\n",
    "3. Download Checkpoints, VAE, LoRA, และอื่นๆ ให้ครบถ้วนก่อน โดยสามารถโหลดได้ผ่าน Google Drive, CivitAI หรือ Huggingface\n",
    "\n",
    "4. กดเริ่มใช้งานได้ผ่าน start_webui_forge_here.ipynb"
   ]
  },
  {
   "cell_type": "markdown",
   "id": "e81c311f-7798-421b-b998-61a7b86a7f74",
   "metadata": {
    "editable": true,
    "slideshow": {
     "slide_type": ""
    },
    "tags": []
   },
   "source": [
    "### Initialization (กด run อันนี้ก่อนเสมอ)"
   ]
  },
  {
   "cell_type": "code",
   "execution_count": 1,
   "id": "02be4cc5-bec1-4096-a1c1-796e8310c247",
   "metadata": {
    "editable": false,
    "slideshow": {
     "slide_type": ""
    },
    "tags": []
   },
   "outputs": [
    {
     "data": {
      "application/vnd.jupyter.widget-view+json": {
       "model_id": "9cf49bbe9f42447db6d0ea0c5cc50e82",
       "version_major": 2,
       "version_minor": 0
      },
      "text/plain": [
       "HBox(children=(HTML(value='<h3 style=\"width: 500px;\">ไม่พบ CUDA โปรดสร้าง Pod ใหม่</h3>'),))"
      ]
     },
     "metadata": {},
     "output_type": "display_data"
    },
    {
     "name": "stdout",
     "output_type": "stream",
     "text": [
      "\n"
     ]
    },
    {
     "data": {
      "application/vnd.jupyter.widget-view+json": {
       "model_id": "b9300f32616544ec84cb757be8d6a8d3",
       "version_major": 2,
       "version_minor": 0
      },
      "text/plain": [
       "HBox(children=(Label(value='CivitAI API Key', layout=Layout(width='100px')), Text(value='', layout=Layout(widt…"
      ]
     },
     "metadata": {},
     "output_type": "display_data"
    },
    {
     "name": "stdout",
     "output_type": "stream",
     "text": [
      "\n"
     ]
    },
    {
     "data": {
      "application/vnd.jupyter.widget-view+json": {
       "model_id": "1ff290f296e146c2a841eba1e94d3b92",
       "version_major": 2,
       "version_minor": 0
      },
      "text/plain": [
       "HBox(children=(Label(value='Huggingface API Key', layout=Layout(width='100px')), Text(value='', layout=Layout(…"
      ]
     },
     "metadata": {},
     "output_type": "display_data"
    },
    {
     "data": {
      "application/vnd.jupyter.widget-view+json": {
       "model_id": "6a8f1240678e49498f6c36b1bc8e32a3",
       "version_major": 2,
       "version_minor": 0
      },
      "text/plain": [
       "Button(button_style='primary', description='Save', style=ButtonStyle())"
      ]
     },
     "metadata": {},
     "output_type": "display_data"
    },
    {
     "data": {
      "application/vnd.jupyter.widget-view+json": {
       "model_id": "94e57921a7db49e49aee9eccb30f64d8",
       "version_major": 2,
       "version_minor": 0
      },
      "text/plain": [
       "Output()"
      ]
     },
     "metadata": {},
     "output_type": "display_data"
    }
   ],
   "source": [
    "from ui.main import *\n",
    "setup()"
   ]
  },
  {
   "cell_type": "code",
   "execution_count": 2,
   "id": "fbcd5710-c78d-4dbd-b46c-d73e296cee8a",
   "metadata": {},
   "outputs": [
    {
     "data": {
      "application/vnd.jupyter.widget-view+json": {
       "model_id": "c7992e0082554129b05278d4272a809a",
       "version_major": 2,
       "version_minor": 0
      },
      "text/plain": [
       "HBox(children=(HTML(value='<h3 style=\"width: 200px;\">Model List</h3>'),))"
      ]
     },
     "metadata": {},
     "output_type": "display_data"
    },
    {
     "data": {
      "application/vnd.jupyter.widget-view+json": {
       "model_id": "2b50d17b28dd4c13b2b145cc22cc33cb",
       "version_major": 2,
       "version_minor": 0
      },
      "text/plain": [
       "Checkbox(value=False, description='Stable Diffusion 1.5', indent=False, layout=Layout(width='auto'))"
      ]
     },
     "metadata": {},
     "output_type": "display_data"
    },
    {
     "data": {
      "application/vnd.jupyter.widget-view+json": {
       "model_id": "a4e55f8da8ba44e2a01e87ea9058f157",
       "version_major": 2,
       "version_minor": 0
      },
      "text/plain": [
       "Checkbox(value=False, description='SDXL (Juggernaut)', indent=False, layout=Layout(width='auto'))"
      ]
     },
     "metadata": {},
     "output_type": "display_data"
    },
    {
     "data": {
      "application/vnd.jupyter.widget-view+json": {
       "model_id": "d56d1fff565b45659f8eba2fca308286",
       "version_major": 2,
       "version_minor": 0
      },
      "text/plain": [
       "Checkbox(value=False, description='Pony', indent=False, layout=Layout(width='auto'))"
      ]
     },
     "metadata": {},
     "output_type": "display_data"
    },
    {
     "data": {
      "application/vnd.jupyter.widget-view+json": {
       "model_id": "9a6ac382498d48bba959e23a097636c2",
       "version_major": 2,
       "version_minor": 0
      },
      "text/plain": [
       "Checkbox(value=False, description='IllustriousXL v0.1', indent=False, layout=Layout(width='auto'))"
      ]
     },
     "metadata": {},
     "output_type": "display_data"
    },
    {
     "data": {
      "application/vnd.jupyter.widget-view+json": {
       "model_id": "df94632d64c147b7bf143a26c9134619",
       "version_major": 2,
       "version_minor": 0
      },
      "text/plain": [
       "Checkbox(value=False, description='NoobAI', indent=False, layout=Layout(width='auto'))"
      ]
     },
     "metadata": {},
     "output_type": "display_data"
    },
    {
     "data": {
      "application/vnd.jupyter.widget-view+json": {
       "model_id": "68448255c94f4cd7bcc05ef6aa06761c",
       "version_major": 2,
       "version_minor": 0
      },
      "text/plain": [
       "Checkbox(value=False, description='Flux.1 Dev (FP8)', indent=False, layout=Layout(width='auto'))"
      ]
     },
     "metadata": {},
     "output_type": "display_data"
    },
    {
     "data": {
      "application/vnd.jupyter.widget-view+json": {
       "model_id": "b2a4a5a514ef43228dd2fa9c44daaa9d",
       "version_major": 2,
       "version_minor": 0
      },
      "text/plain": [
       "Checkbox(value=False, description='AI Angel Flux', indent=False, layout=Layout(width='auto'))"
      ]
     },
     "metadata": {},
     "output_type": "display_data"
    },
    {
     "data": {
      "application/vnd.jupyter.widget-view+json": {
       "model_id": "d16abe5fd3994041aae50e4eaa3132ac",
       "version_major": 2,
       "version_minor": 0
      },
      "text/plain": [
       "Checkbox(value=False, description='Controlnet V1.1 (For SD1.5)', indent=False, layout=Layout(width='auto'))"
      ]
     },
     "metadata": {},
     "output_type": "display_data"
    },
    {
     "data": {
      "application/vnd.jupyter.widget-view+json": {
       "model_id": "579b9ba9c67b44cb9947e6a259b48211",
       "version_major": 2,
       "version_minor": 0
      },
      "text/plain": [
       "Checkbox(value=False, description='ipadapter', indent=False, layout=Layout(width='auto'))"
      ]
     },
     "metadata": {},
     "output_type": "display_data"
    },
    {
     "data": {
      "application/vnd.jupyter.widget-view+json": {
       "model_id": "82570c41e85841a9a8101d15138c2550",
       "version_major": 2,
       "version_minor": 0
      },
      "text/plain": [
       "Button(button_style='primary', description='Download', style=ButtonStyle())"
      ]
     },
     "metadata": {},
     "output_type": "display_data"
    },
    {
     "data": {
      "application/vnd.jupyter.widget-view+json": {
       "model_id": "b6c0f7b2439342caa56f50229db6b332",
       "version_major": 2,
       "version_minor": 0
      },
      "text/plain": [
       "Output()"
      ]
     },
     "metadata": {},
     "output_type": "display_data"
    }
   ],
   "source": [
    "select_download_model_list()"
   ]
  },
  {
   "cell_type": "code",
   "execution_count": 3,
   "id": "b9f61ae2-c68a-4ea2-969f-80ff3d545d33",
   "metadata": {
    "editable": false,
    "slideshow": {
     "slide_type": ""
    },
    "tags": []
   },
   "outputs": [
    {
     "data": {
      "application/vnd.jupyter.widget-view+json": {
       "model_id": "198c8d1b7cb4414797a2b4efafce4077",
       "version_major": 2,
       "version_minor": 0
      },
      "text/plain": [
       "HTML(value='<h3 style=\"width: auto;\">Download Model จาก Google Drive, CivitAI หรือ Huggingface</h3>\\n         …"
      ]
     },
     "metadata": {},
     "output_type": "display_data"
    },
    {
     "data": {
      "application/vnd.jupyter.widget-view+json": {
       "model_id": "6bd4b23f45ba4c6596fbe5539b785606",
       "version_major": 2,
       "version_minor": 0
      },
      "text/plain": [
       "Label(value='Please Select type (โปรดเลือกประเภทของ Model ก่อน Download)')"
      ]
     },
     "metadata": {},
     "output_type": "display_data"
    },
    {
     "data": {
      "application/vnd.jupyter.widget-view+json": {
       "model_id": "f5c4d105b96348048b1f854a309494e2",
       "version_major": 2,
       "version_minor": 0
      },
      "text/plain": [
       "HBox(children=(Label(value='Model Type (ประเภทของโมเดล) :', layout=Layout(width='auto')), Dropdown(options=('c…"
      ]
     },
     "metadata": {},
     "output_type": "display_data"
    },
    {
     "data": {
      "application/vnd.jupyter.widget-view+json": {
       "model_id": "fae2f74536b741d28c6862e656f9559b",
       "version_major": 2,
       "version_minor": 0
      },
      "text/plain": [
       "HBox(children=(Label(value='Model url:'), Text(value='', layout=Layout(height='40px', width='400px'), placehol…"
      ]
     },
     "metadata": {},
     "output_type": "display_data"
    },
    {
     "data": {
      "application/vnd.jupyter.widget-view+json": {
       "model_id": "a207bbf81fc74ec2a3c72125c6961080",
       "version_major": 2,
       "version_minor": 0
      },
      "text/plain": [
       "Button(button_style='primary', description='Download', style=ButtonStyle())"
      ]
     },
     "metadata": {},
     "output_type": "display_data"
    },
    {
     "data": {
      "application/vnd.jupyter.widget-view+json": {
       "model_id": "17ed30b8f94a42cab54c73c38c350a71",
       "version_major": 2,
       "version_minor": 0
      },
      "text/plain": [
       "Output()"
      ]
     },
     "metadata": {},
     "output_type": "display_data"
    }
   ],
   "source": [
    "download_models()"
   ]
  },
  {
   "cell_type": "markdown",
   "id": "5e124a90-2c36-4f12-9fa1-0e24c5bd8156",
   "metadata": {
    "editable": true,
    "slideshow": {
     "slide_type": ""
    },
    "tags": []
   },
   "source": [
    "## หากพบปัญหาสามารถแจ้งได้ที่ \n",
    "\n",
    "facebook : https://www.facebook.com/chanrich.pisitjing/"
   ]
  }
 ],
 "metadata": {
  "kernelspec": {
   "display_name": "Python 3 (ipykernel)",
   "language": "python",
   "name": "python3"
  },
  "language_info": {
   "codemirror_mode": {
    "name": "ipython",
    "version": 3
   },
   "file_extension": ".py",
   "mimetype": "text/x-python",
   "name": "python",
   "nbconvert_exporter": "python",
   "pygments_lexer": "ipython3",
   "version": "3.11.11"
  }
 },
 "nbformat": 4,
 "nbformat_minor": 5
}
